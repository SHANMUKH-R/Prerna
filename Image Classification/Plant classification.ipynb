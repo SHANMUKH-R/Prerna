{
 "metadata": {
  "language_info": {
   "codemirror_mode": {
    "name": "ipython",
    "version": 3
   },
   "file_extension": ".py",
   "mimetype": "text/x-python",
   "name": "python",
   "nbconvert_exporter": "python",
   "pygments_lexer": "ipython3",
   "version": "3.6.6-final"
  },
  "orig_nbformat": 2,
  "kernelspec": {
   "name": "python3",
   "display_name": "Python 3"
  }
 },
 "nbformat": 4,
 "nbformat_minor": 2,
 "cells": [
  {
   "cell_type": "code",
   "execution_count": 1,
   "metadata": {},
   "outputs": [],
   "source": [
    "import matplotlib.pyplot as plt\n",
    "import cv2\n",
    "# Technically not necessary in newest versions of jupyter\n",
    "%matplotlib inline"
   ]
  },
  {
   "cell_type": "code",
   "execution_count": 2,
   "metadata": {},
   "outputs": [
    {
     "output_type": "stream",
     "name": "stderr",
     "text": [
      "Using TensorFlow backend.\n"
     ]
    }
   ],
   "source": [
    "from keras.preprocessing.image import ImageDataGenerator"
   ]
  },
  {
   "cell_type": "code",
   "execution_count": 3,
   "metadata": {},
   "outputs": [],
   "source": [
    "image_gen = ImageDataGenerator(rotation_range=30, # rotate the image 30 degrees\n",
    "                               width_shift_range=0.1, # Shift the pic width by a max of 10%\n",
    "                               height_shift_range=0.1, # Shift the pic height by a max of 10%\n",
    "                               rescale=1/255, # Rescale the image by normalzing it.\n",
    "                               shear_range=0.2, # Shear means cutting away part of the image (max 20%)\n",
    "                               zoom_range=0.2, # Zoom in by 20% max\n",
    "                               horizontal_flip=True, # Allo horizontal flipping\n",
    "                               fill_mode='nearest' # Fill in missing pixels with the nearest filled value\n",
    "                              )"
   ]
  },
  {
   "cell_type": "code",
   "execution_count": 8,
   "metadata": {},
   "outputs": [
    {
     "output_type": "stream",
     "name": "stdout",
     "text": [
      "Found 731 images belonging to 3 classes.\n"
     ]
    },
    {
     "output_type": "execute_result",
     "data": {
      "text/plain": [
       "<keras_preprocessing.image.DirectoryIterator at 0x240784ac048>"
      ]
     },
     "metadata": {},
     "execution_count": 8
    }
   ],
   "source": [
    "image_gen.flow_from_directory('..\\Model Files\\data\\\\train')"
   ]
  },
  {
   "cell_type": "code",
   "execution_count": 9,
   "metadata": {},
   "outputs": [
    {
     "output_type": "stream",
     "name": "stdout",
     "text": [
      "Found 164 images belonging to 3 classes.\n"
     ]
    },
    {
     "output_type": "execute_result",
     "data": {
      "text/plain": [
       "<keras_preprocessing.image.DirectoryIterator at 0x24078bc1518>"
      ]
     },
     "metadata": {},
     "execution_count": 9
    }
   ],
   "source": [
    "image_gen.flow_from_directory('..\\Model Files\\data\\\\test')"
   ]
  },
  {
   "cell_type": "code",
   "execution_count": 10,
   "metadata": {},
   "outputs": [],
   "source": [
    "# width,height,channels\n",
    "image_shape = (150,150,3)\n"
   ]
  },
  {
   "cell_type": "code",
   "execution_count": 11,
   "metadata": {},
   "outputs": [],
   "source": [
    "from keras.models import Sequential\n",
    "from keras.layers import Activation, Dropout, Flatten, Dense, Conv2D, MaxPooling2D"
   ]
  },
  {
   "cell_type": "code",
   "execution_count": 15,
   "metadata": {},
   "outputs": [],
   "source": [
    "model = Sequential()\n",
    "\n",
    "model.add(Conv2D(filters=32, kernel_size=(3,3),input_shape=(150,150,3), activation='relu',))\n",
    "model.add(MaxPooling2D(pool_size=(2, 2)))\n",
    "\n",
    "model.add(Conv2D(filters=64, kernel_size=(3,3),input_shape=(150,150,3), activation='relu',))\n",
    "model.add(MaxPooling2D(pool_size=(2, 2)))\n",
    "\n",
    "model.add(Conv2D(filters=64, kernel_size=(3,3),input_shape=(150,150,3), activation='relu',))\n",
    "model.add(MaxPooling2D(pool_size=(2, 2)))\n",
    "\n",
    "\n",
    "model.add(Flatten())\n",
    "\n",
    "\n",
    "model.add(Dense(128))\n",
    "model.add(Activation('relu'))\n",
    "\n",
    "# Dropouts help reduce overfitting by randomly turning neurons off during training.\n",
    "# Here we say randomly turn off 50% of neurons.\n",
    "model.add(Dropout(0.5))\n",
    "\n",
    "# Last layer, remember its binary, 0=cat , 1=dog\n",
    "model.add(Dense(1))\n",
    "model.add(Activation('sigmoid'))\n",
    "\n",
    "model.compile(loss='binary_crossentropy',\n",
    "              optimizer='adam',\n",
    "              metrics=['accuracy'])"
   ]
  },
  {
   "cell_type": "code",
   "execution_count": 17,
   "metadata": {},
   "outputs": [
    {
     "output_type": "stream",
     "name": "stdout",
     "text": [
      "Found 632 images belonging to 2 classes.\n"
     ]
    }
   ],
   "source": [
    "batch_size = 16\n",
    "\n",
    "train_image_gen = image_gen.flow_from_directory('..\\Model Files\\data\\\\train',\n",
    "                                               target_size=image_shape[:2],\n",
    "                                               batch_size=batch_size,\n",
    "                                               class_mode='binary')"
   ]
  },
  {
   "cell_type": "code",
   "execution_count": 18,
   "metadata": {},
   "outputs": [
    {
     "output_type": "stream",
     "name": "stdout",
     "text": [
      "Found 140 images belonging to 2 classes.\n"
     ]
    }
   ],
   "source": [
    "test_image_gen = image_gen.flow_from_directory('..\\Model Files\\data\\\\test',\n",
    "                                               target_size=image_shape[:2],\n",
    "                                               batch_size=batch_size,\n",
    "                                               class_mode='binary')"
   ]
  },
  {
   "cell_type": "code",
   "execution_count": 19,
   "metadata": {},
   "outputs": [
    {
     "output_type": "execute_result",
     "data": {
      "text/plain": [
       "{'neem': 0, 'tulsi': 1}"
      ]
     },
     "metadata": {},
     "execution_count": 19
    }
   ],
   "source": [
    "train_image_gen.class_indices"
   ]
  },
  {
   "cell_type": "code",
   "execution_count": 20,
   "metadata": {},
   "outputs": [],
   "source": [
    "import warnings\n",
    "warnings.filterwarnings('ignore')"
   ]
  },
  {
   "cell_type": "code",
   "execution_count": 21,
   "metadata": {},
   "outputs": [
    {
     "output_type": "stream",
     "name": "stdout",
     "text": [
      "Epoch 1/100\n",
      "150/150 [==============================] - 32s 214ms/step - loss: 0.6625 - acc: 0.6496 - val_loss: 0.8543 - val_acc: 0.6429\n",
      "Epoch 2/100\n",
      "150/150 [==============================] - 29s 195ms/step - loss: 0.6264 - acc: 0.6537 - val_loss: 0.5543 - val_acc: 0.6429\n",
      "Epoch 3/100\n",
      "150/150 [==============================] - 31s 208ms/step - loss: 0.5783 - acc: 0.6950 - val_loss: 0.5706 - val_acc: 0.6857\n",
      "Epoch 4/100\n",
      "150/150 [==============================] - 29s 196ms/step - loss: 0.5661 - acc: 0.7271 - val_loss: 0.4603 - val_acc: 0.7714\n",
      "Epoch 5/100\n",
      "150/150 [==============================] - 30s 197ms/step - loss: 0.5262 - acc: 0.7462 - val_loss: 0.5047 - val_acc: 0.7643\n",
      "Epoch 6/100\n",
      "150/150 [==============================] - 35s 234ms/step - loss: 0.5042 - acc: 0.7587 - val_loss: 0.6202 - val_acc: 0.7643\n",
      "Epoch 7/100\n",
      "150/150 [==============================] - 35s 237ms/step - loss: 0.4846 - acc: 0.7671 - val_loss: 0.4970 - val_acc: 0.7929\n",
      "Epoch 8/100\n",
      "150/150 [==============================] - 32s 213ms/step - loss: 0.4591 - acc: 0.7917 - val_loss: 0.4620 - val_acc: 0.8000\n",
      "Epoch 9/100\n",
      "150/150 [==============================] - 31s 208ms/step - loss: 0.4484 - acc: 0.8025 - val_loss: 0.5478 - val_acc: 0.7071\n",
      "Epoch 10/100\n",
      "150/150 [==============================] - 31s 210ms/step - loss: 0.4261 - acc: 0.8129 - val_loss: 0.3932 - val_acc: 0.8143\n",
      "Epoch 11/100\n",
      "150/150 [==============================] - 28s 189ms/step - loss: 0.4142 - acc: 0.8133 - val_loss: 0.3853 - val_acc: 0.8143\n",
      "Epoch 12/100\n",
      "150/150 [==============================] - 27s 181ms/step - loss: 0.3826 - acc: 0.8279 - val_loss: 0.4842 - val_acc: 0.8000\n",
      "Epoch 13/100\n",
      "150/150 [==============================] - 28s 183ms/step - loss: 0.3589 - acc: 0.8383 - val_loss: 0.4488 - val_acc: 0.8000\n",
      "Epoch 14/100\n",
      "150/150 [==============================] - 28s 187ms/step - loss: 0.3774 - acc: 0.8321 - val_loss: 0.4579 - val_acc: 0.7786\n",
      "Epoch 15/100\n",
      "150/150 [==============================] - 27s 178ms/step - loss: 0.3450 - acc: 0.8450 - val_loss: 0.4109 - val_acc: 0.7714\n",
      "Epoch 16/100\n",
      "150/150 [==============================] - 27s 177ms/step - loss: 0.3168 - acc: 0.8642 - val_loss: 0.4526 - val_acc: 0.8143\n",
      "Epoch 17/100\n",
      "150/150 [==============================] - 26s 175ms/step - loss: 0.3192 - acc: 0.8608 - val_loss: 0.4769 - val_acc: 0.8214\n",
      "Epoch 18/100\n",
      "150/150 [==============================] - 27s 180ms/step - loss: 0.3041 - acc: 0.8687 - val_loss: 0.6279 - val_acc: 0.7500\n",
      "Epoch 19/100\n",
      "150/150 [==============================] - 27s 181ms/step - loss: 0.3043 - acc: 0.8742 - val_loss: 0.5375 - val_acc: 0.7857\n",
      "Epoch 20/100\n",
      "150/150 [==============================] - 27s 182ms/step - loss: 0.2803 - acc: 0.8854 - val_loss: 0.4639 - val_acc: 0.7857\n",
      "Epoch 21/100\n",
      "150/150 [==============================] - 27s 182ms/step - loss: 0.2603 - acc: 0.8950 - val_loss: 0.6873 - val_acc: 0.7929\n",
      "Epoch 22/100\n",
      "150/150 [==============================] - 27s 182ms/step - loss: 0.2774 - acc: 0.8862 - val_loss: 0.7909 - val_acc: 0.7429\n",
      "Epoch 23/100\n",
      "150/150 [==============================] - 27s 181ms/step - loss: 0.2394 - acc: 0.8942 - val_loss: 0.4835 - val_acc: 0.8143\n",
      "Epoch 24/100\n",
      "150/150 [==============================] - 27s 179ms/step - loss: 0.2198 - acc: 0.9058 - val_loss: 0.7208 - val_acc: 0.8000\n",
      "Epoch 25/100\n",
      "150/150 [==============================] - 27s 182ms/step - loss: 0.2352 - acc: 0.8983 - val_loss: 0.5905 - val_acc: 0.7857\n",
      "Epoch 26/100\n",
      "150/150 [==============================] - 27s 180ms/step - loss: 0.2497 - acc: 0.8967 - val_loss: 0.5643 - val_acc: 0.8000\n",
      "Epoch 27/100\n",
      "150/150 [==============================] - 27s 181ms/step - loss: 0.2025 - acc: 0.9171 - val_loss: 0.6414 - val_acc: 0.8286\n",
      "Epoch 28/100\n",
      "150/150 [==============================] - 28s 187ms/step - loss: 0.2010 - acc: 0.9117 - val_loss: 0.5747 - val_acc: 0.7929\n",
      "Epoch 29/100\n",
      "150/150 [==============================] - 27s 181ms/step - loss: 0.2029 - acc: 0.9192 - val_loss: 0.4952 - val_acc: 0.8000\n",
      "Epoch 30/100\n",
      "150/150 [==============================] - 27s 180ms/step - loss: 0.2135 - acc: 0.9171 - val_loss: 0.9942 - val_acc: 0.6214\n",
      "Epoch 31/100\n",
      "150/150 [==============================] - 27s 177ms/step - loss: 0.2542 - acc: 0.8996 - val_loss: 0.5336 - val_acc: 0.7929\n",
      "Epoch 32/100\n",
      "150/150 [==============================] - 27s 178ms/step - loss: 0.1674 - acc: 0.9396 - val_loss: 0.7353 - val_acc: 0.8214\n",
      "Epoch 33/100\n",
      "150/150 [==============================] - 30s 201ms/step - loss: 0.1574 - acc: 0.9412 - val_loss: 0.5823 - val_acc: 0.8214\n",
      "Epoch 34/100\n",
      "150/150 [==============================] - 27s 183ms/step - loss: 0.1823 - acc: 0.9262 - val_loss: 0.7272 - val_acc: 0.7857\n",
      "Epoch 35/100\n",
      "150/150 [==============================] - 27s 180ms/step - loss: 0.1795 - acc: 0.9279 - val_loss: 0.6646 - val_acc: 0.8214\n",
      "Epoch 36/100\n",
      "150/150 [==============================] - 27s 178ms/step - loss: 0.1283 - acc: 0.9487 - val_loss: 0.7756 - val_acc: 0.8000\n",
      "Epoch 37/100\n",
      "150/150 [==============================] - 27s 177ms/step - loss: 0.1152 - acc: 0.9554 - val_loss: 1.0659 - val_acc: 0.7714\n",
      "Epoch 38/100\n",
      "150/150 [==============================] - 27s 180ms/step - loss: 0.1679 - acc: 0.9279 - val_loss: 0.5992 - val_acc: 0.8000\n",
      "Epoch 39/100\n",
      "150/150 [==============================] - 27s 180ms/step - loss: 0.1316 - acc: 0.9554 - val_loss: 0.6905 - val_acc: 0.8286\n",
      "Epoch 40/100\n",
      "150/150 [==============================] - 28s 184ms/step - loss: 0.1445 - acc: 0.9446 - val_loss: 0.5512 - val_acc: 0.7857\n",
      "Epoch 41/100\n",
      "150/150 [==============================] - 27s 181ms/step - loss: 0.1311 - acc: 0.9517 - val_loss: 0.7911 - val_acc: 0.8143\n",
      "Epoch 42/100\n",
      "150/150 [==============================] - 28s 186ms/step - loss: 0.1190 - acc: 0.9533 - val_loss: 0.7713 - val_acc: 0.8286\n",
      "Epoch 43/100\n",
      "150/150 [==============================] - 27s 180ms/step - loss: 0.1128 - acc: 0.9592 - val_loss: 0.7115 - val_acc: 0.8071\n",
      "Epoch 44/100\n",
      "150/150 [==============================] - 27s 181ms/step - loss: 0.2011 - acc: 0.9275 - val_loss: 0.6697 - val_acc: 0.8571\n",
      "Epoch 45/100\n",
      "150/150 [==============================] - 27s 179ms/step - loss: 0.1315 - acc: 0.9488 - val_loss: 0.4409 - val_acc: 0.8571\n",
      "Epoch 46/100\n",
      "150/150 [==============================] - 27s 179ms/step - loss: 0.1085 - acc: 0.9612 - val_loss: 0.7436 - val_acc: 0.8143\n",
      "Epoch 47/100\n",
      "150/150 [==============================] - 27s 177ms/step - loss: 0.1236 - acc: 0.9537 - val_loss: 0.7310 - val_acc: 0.8214\n",
      "Epoch 48/100\n",
      "150/150 [==============================] - 27s 181ms/step - loss: 0.1128 - acc: 0.9550 - val_loss: 0.8096 - val_acc: 0.8214\n",
      "Epoch 49/100\n",
      "150/150 [==============================] - 27s 183ms/step - loss: 0.1131 - acc: 0.9629 - val_loss: 0.7067 - val_acc: 0.8214\n",
      "Epoch 50/100\n",
      "150/150 [==============================] - 27s 177ms/step - loss: 0.1076 - acc: 0.9592 - val_loss: 0.8044 - val_acc: 0.7929\n",
      "Epoch 51/100\n",
      "150/150 [==============================] - 27s 180ms/step - loss: 0.0929 - acc: 0.9629 - val_loss: 0.9543 - val_acc: 0.8357\n",
      "Epoch 52/100\n",
      "150/150 [==============================] - 27s 179ms/step - loss: 0.0801 - acc: 0.9679 - val_loss: 0.7178 - val_acc: 0.8500\n",
      "Epoch 53/100\n",
      "150/150 [==============================] - 27s 182ms/step - loss: 0.0943 - acc: 0.9650 - val_loss: 0.8108 - val_acc: 0.8286\n",
      "Epoch 54/100\n",
      "150/150 [==============================] - 28s 183ms/step - loss: 0.1259 - acc: 0.9592 - val_loss: 0.5967 - val_acc: 0.8143\n",
      "Epoch 55/100\n",
      "150/150 [==============================] - 27s 183ms/step - loss: 0.1266 - acc: 0.9512 - val_loss: 0.7636 - val_acc: 0.8143\n",
      "Epoch 56/100\n",
      "150/150 [==============================] - 27s 181ms/step - loss: 0.1105 - acc: 0.9617 - val_loss: 1.0179 - val_acc: 0.8286\n",
      "Epoch 57/100\n",
      "150/150 [==============================] - 29s 192ms/step - loss: 0.0811 - acc: 0.9746 - val_loss: 1.3431 - val_acc: 0.7857\n",
      "Epoch 58/100\n",
      "150/150 [==============================] - 33s 219ms/step - loss: 0.0902 - acc: 0.9679 - val_loss: 0.7611 - val_acc: 0.8357\n",
      "Epoch 59/100\n",
      "150/150 [==============================] - 30s 201ms/step - loss: 0.1163 - acc: 0.9608 - val_loss: 0.7040 - val_acc: 0.8357\n",
      "Epoch 60/100\n",
      "150/150 [==============================] - 31s 209ms/step - loss: 0.0638 - acc: 0.9775 - val_loss: 1.0204 - val_acc: 0.8357\n",
      "Epoch 61/100\n",
      "150/150 [==============================] - 32s 212ms/step - loss: 0.1020 - acc: 0.9683 - val_loss: 0.6474 - val_acc: 0.8643\n",
      "Epoch 62/100\n",
      "150/150 [==============================] - 31s 210ms/step - loss: 0.0806 - acc: 0.9696 - val_loss: 0.6881 - val_acc: 0.8286\n",
      "Epoch 63/100\n",
      "150/150 [==============================] - 31s 210ms/step - loss: 0.1102 - acc: 0.9592 - val_loss: 0.6335 - val_acc: 0.8571\n",
      "Epoch 64/100\n",
      "150/150 [==============================] - 30s 198ms/step - loss: 0.0661 - acc: 0.9717 - val_loss: 1.0138 - val_acc: 0.8500\n",
      "Epoch 65/100\n",
      "150/150 [==============================] - 29s 193ms/step - loss: 0.0743 - acc: 0.9750 - val_loss: 0.5918 - val_acc: 0.8714\n",
      "Epoch 66/100\n",
      "150/150 [==============================] - 29s 193ms/step - loss: 0.0812 - acc: 0.9692 - val_loss: 0.8366 - val_acc: 0.8357\n",
      "Epoch 67/100\n",
      "150/150 [==============================] - 29s 196ms/step - loss: 0.1071 - acc: 0.9608 - val_loss: 0.8455 - val_acc: 0.8143\n",
      "Epoch 68/100\n",
      "150/150 [==============================] - 29s 194ms/step - loss: 0.0722 - acc: 0.9750 - val_loss: 0.9462 - val_acc: 0.8214\n",
      "Epoch 69/100\n",
      "150/150 [==============================] - 30s 200ms/step - loss: 0.0611 - acc: 0.9771 - val_loss: 1.0347 - val_acc: 0.8286\n",
      "Epoch 70/100\n",
      "150/150 [==============================] - 28s 187ms/step - loss: 0.1091 - acc: 0.9613 - val_loss: 0.7443 - val_acc: 0.8286\n",
      "Epoch 71/100\n",
      "150/150 [==============================] - 28s 186ms/step - loss: 0.0962 - acc: 0.9683 - val_loss: 1.1089 - val_acc: 0.8143\n",
      "Epoch 72/100\n",
      "150/150 [==============================] - 28s 187ms/step - loss: 0.0793 - acc: 0.9721 - val_loss: 1.0993 - val_acc: 0.8143\n",
      "Epoch 73/100\n",
      "150/150 [==============================] - 29s 191ms/step - loss: 0.0620 - acc: 0.9783 - val_loss: 1.1347 - val_acc: 0.8143\n",
      "Epoch 74/100\n",
      "150/150 [==============================] - 30s 201ms/step - loss: 0.0675 - acc: 0.9762 - val_loss: 0.9970 - val_acc: 0.8000\n",
      "Epoch 75/100\n",
      "150/150 [==============================] - 29s 193ms/step - loss: 0.0734 - acc: 0.9700 - val_loss: 1.1429 - val_acc: 0.8071\n",
      "Epoch 76/100\n",
      "150/150 [==============================] - 27s 181ms/step - loss: 0.0822 - acc: 0.9704 - val_loss: 1.6519 - val_acc: 0.8000\n",
      "Epoch 77/100\n",
      "150/150 [==============================] - 30s 200ms/step - loss: 0.1314 - acc: 0.9533 - val_loss: 0.9477 - val_acc: 0.8214\n",
      "Epoch 78/100\n",
      "150/150 [==============================] - 29s 197ms/step - loss: 0.0784 - acc: 0.9787 - val_loss: 0.6502 - val_acc: 0.8500\n",
      "Epoch 79/100\n",
      "150/150 [==============================] - 28s 185ms/step - loss: 0.0757 - acc: 0.9721 - val_loss: 0.6933 - val_acc: 0.8571\n",
      "Epoch 80/100\n",
      "150/150 [==============================] - 32s 214ms/step - loss: 0.0618 - acc: 0.9800 - val_loss: 1.0689 - val_acc: 0.8214\n",
      "Epoch 81/100\n",
      "150/150 [==============================] - 30s 202ms/step - loss: 0.0755 - acc: 0.9737 - val_loss: 0.8634 - val_acc: 0.8500\n",
      "Epoch 82/100\n",
      "150/150 [==============================] - 31s 207ms/step - loss: 0.0681 - acc: 0.9771 - val_loss: 1.1457 - val_acc: 0.8071\n",
      "Epoch 83/100\n",
      "150/150 [==============================] - 31s 203ms/step - loss: 0.0562 - acc: 0.9787 - val_loss: 0.9396 - val_acc: 0.8286\n",
      "Epoch 84/100\n",
      "150/150 [==============================] - 30s 200ms/step - loss: 0.0737 - acc: 0.9729 - val_loss: 0.9883 - val_acc: 0.8286\n",
      "Epoch 85/100\n",
      "150/150 [==============================] - 28s 188ms/step - loss: 0.0511 - acc: 0.9812 - val_loss: 0.7561 - val_acc: 0.8429\n",
      "Epoch 86/100\n",
      "150/150 [==============================] - 31s 207ms/step - loss: 0.0583 - acc: 0.9821 - val_loss: 0.9781 - val_acc: 0.8214\n",
      "Epoch 87/100\n",
      "150/150 [==============================] - 31s 208ms/step - loss: 0.0425 - acc: 0.9846 - val_loss: 1.2537 - val_acc: 0.8071\n",
      "Epoch 88/100\n",
      "150/150 [==============================] - 30s 201ms/step - loss: 0.0781 - acc: 0.9746 - val_loss: 1.0518 - val_acc: 0.8214\n",
      "Epoch 89/100\n",
      "150/150 [==============================] - 30s 201ms/step - loss: 0.0686 - acc: 0.9746 - val_loss: 0.8833 - val_acc: 0.8643\n",
      "Epoch 90/100\n",
      "150/150 [==============================] - 30s 199ms/step - loss: 0.0726 - acc: 0.9746 - val_loss: 0.8762 - val_acc: 0.8286\n",
      "Epoch 91/100\n",
      "150/150 [==============================] - 31s 207ms/step - loss: 0.0378 - acc: 0.9875 - val_loss: 1.1503 - val_acc: 0.8071\n",
      "Epoch 92/100\n",
      "150/150 [==============================] - 33s 222ms/step - loss: 0.0645 - acc: 0.9796 - val_loss: 1.2670 - val_acc: 0.8071\n",
      "Epoch 93/100\n",
      "150/150 [==============================] - 30s 199ms/step - loss: 0.0663 - acc: 0.9775 - val_loss: 0.6434 - val_acc: 0.8286\n",
      "Epoch 94/100\n",
      "150/150 [==============================] - 27s 181ms/step - loss: 0.0849 - acc: 0.9675 - val_loss: 1.3609 - val_acc: 0.8000\n",
      "Epoch 95/100\n",
      "150/150 [==============================] - 27s 180ms/step - loss: 0.1063 - acc: 0.9671 - val_loss: 0.9379 - val_acc: 0.8643\n",
      "Epoch 96/100\n",
      "150/150 [==============================] - 28s 185ms/step - loss: 0.0436 - acc: 0.9829 - val_loss: 1.3479 - val_acc: 0.8143\n",
      "Epoch 97/100\n",
      "150/150 [==============================] - 29s 196ms/step - loss: 0.0583 - acc: 0.9825 - val_loss: 0.7298 - val_acc: 0.8286\n",
      "Epoch 98/100\n",
      "150/150 [==============================] - 29s 190ms/step - loss: 0.0809 - acc: 0.9725 - val_loss: 1.3421 - val_acc: 0.8071\n",
      "Epoch 99/100\n",
      "150/150 [==============================] - 28s 184ms/step - loss: 0.0660 - acc: 0.9804 - val_loss: 1.3407 - val_acc: 0.7929\n",
      "Epoch 100/100\n",
      "150/150 [==============================] - 27s 180ms/step - loss: 0.0602 - acc: 0.9788 - val_loss: 1.2733 - val_acc: 0.7857\n"
     ]
    }
   ],
   "source": [
    "results = model.fit_generator(train_image_gen,epochs=100,\n",
    "                              steps_per_epoch=150,\n",
    "                              validation_data=test_image_gen,\n",
    "                             validation_steps=12)"
   ]
  },
  {
   "cell_type": "code",
   "execution_count": 22,
   "metadata": {},
   "outputs": [],
   "source": [
    "model.save('.h5')"
   ]
  },
  {
   "cell_type": "code",
   "execution_count": 23,
   "metadata": {},
   "outputs": [
    {
     "output_type": "execute_result",
     "data": {
      "text/plain": [
       "[0.6482263513513513,\n",
       " 0.6536195286195287,\n",
       " 0.6949152542372882,\n",
       " 0.7285353535353535,\n",
       " 0.7453703703703703,\n",
       " 0.7580508474576271,\n",
       " 0.7676767676767676,\n",
       " 0.7909628378378378,\n",
       " 0.8044763513513513,\n",
       " 0.8135521885521886,\n",
       " 0.811864406779661,\n",
       " 0.8278619528619529,\n",
       " 0.8374155405405406,\n",
       " 0.8315033783783784,\n",
       " 0.8445945945945946,\n",
       " 0.8640572390572391,\n",
       " 0.8619087837837838,\n",
       " 0.8682432432432432,\n",
       " 0.8733164983164983,\n",
       " 0.886402027027027,\n",
       " 0.8944256756756757,\n",
       " 0.8859797297297297,\n",
       " 0.8947811447811448,\n",
       " 0.9049831081081081,\n",
       " 0.8977272727272727,\n",
       " 0.8978040540540541,\n",
       " 0.9169491525423729,\n",
       " 0.9107744107744108,\n",
       " 0.9193412162162162,\n",
       " 0.9162457912457912,\n",
       " 0.8994932432432432,\n",
       " 0.9396114864864865,\n",
       " 0.9408783783783784,\n",
       " 0.926097972972973,\n",
       " 0.9284511784511784,\n",
       " 0.9484797297297297,\n",
       " 0.95496632996633,\n",
       " 0.9273648648648649,\n",
       " 0.9555084745762712,\n",
       " 0.9444444444444444,\n",
       " 0.9518581081081081,\n",
       " 0.9537037037037037,\n",
       " 0.9590371621621622,\n",
       " 0.9265202702702703,\n",
       " 0.9497466216216216,\n",
       " 0.9611486486486487,\n",
       " 0.9535472972972973,\n",
       " 0.9545454545454546,\n",
       " 0.9625420875420876,\n",
       " 0.9588983050847457,\n",
       " 0.9629629629629629,\n",
       " 0.96875,\n",
       " 0.9653716216216216,\n",
       " 0.9594594594594594,\n",
       " 0.9505912162162162,\n",
       " 0.9612794612794613,\n",
       " 0.9747474747474747,\n",
       " 0.9682203389830508,\n",
       " 0.9608585858585859,\n",
       " 0.9771959459459459,\n",
       " 0.9688552188552189,\n",
       " 0.9700168918918919,\n",
       " 0.9603040540540541,\n",
       " 0.9721283783783784,\n",
       " 0.9746621621621622,\n",
       " 0.9692760942760943,\n",
       " 0.9605932203389831,\n",
       " 0.9751683501683501,\n",
       " 0.9767736486486487,\n",
       " 0.9617003367003367,\n",
       " 0.9690677966101695,\n",
       " 0.9726430976430976,\n",
       " 0.9780405405405406,\n",
       " 0.976010101010101,\n",
       " 0.9699152542372881,\n",
       " 0.9713804713804713,\n",
       " 0.9532828282828283,\n",
       " 0.9783898305084746,\n",
       " 0.9718013468013468,\n",
       " 0.9797297297297297,\n",
       " 0.9733952702702703,\n",
       " 0.9771959459459459,\n",
       " 0.9785353535353535,\n",
       " 0.972972972972973,\n",
       " 0.9810606060606061,\n",
       " 0.9822033898305085,\n",
       " 0.9844276094276094,\n",
       " 0.9742398648648649,\n",
       " 0.9746621621621622,\n",
       " 0.9750844594594594,\n",
       " 0.9873737373737373,\n",
       " 0.9793074324324325,\n",
       " 0.9771959459459459,\n",
       " 0.9670608108108109,\n",
       " 0.9667508417508418,\n",
       " 0.9831081081081081,\n",
       " 0.9822635135135135,\n",
       " 0.9733952702702703,\n",
       " 0.9802188552188552,\n",
       " 0.9788851351351351]"
      ]
     },
     "metadata": {},
     "execution_count": 23
    }
   ],
   "source": [
    "results.history['acc']"
   ]
  },
  {
   "cell_type": "code",
   "execution_count": 24,
   "metadata": {},
   "outputs": [
    {
     "output_type": "execute_result",
     "data": {
      "text/plain": [
       "[<matplotlib.lines.Line2D at 0x2400000c2e8>]"
      ]
     },
     "metadata": {},
     "execution_count": 24
    },
    {
     "output_type": "display_data",
     "data": {
      "text/plain": "<Figure size 432x288 with 1 Axes>",
      "image/svg+xml": "<?xml version=\"1.0\" encoding=\"utf-8\" standalone=\"no\"?>\r\n<!DOCTYPE svg PUBLIC \"-//W3C//DTD SVG 1.1//EN\"\r\n  \"http://www.w3.org/Graphics/SVG/1.1/DTD/svg11.dtd\">\r\n<!-- Created with matplotlib (http://matplotlib.org/) -->\r\n<svg height=\"252.018125pt\" version=\"1.1\" viewBox=\"0 0 381.965625 252.018125\" width=\"381.965625pt\" xmlns=\"http://www.w3.org/2000/svg\" xmlns:xlink=\"http://www.w3.org/1999/xlink\">\r\n <defs>\r\n  <style type=\"text/css\">\r\n*{stroke-linecap:butt;stroke-linejoin:round;}\r\n  </style>\r\n </defs>\r\n <g id=\"figure_1\">\r\n  <g id=\"patch_1\">\r\n   <path d=\"M 0 252.018125 \r\nL 381.965625 252.018125 \r\nL 381.965625 0 \r\nL 0 0 \r\nz\r\n\" style=\"fill:none;\"/>\r\n  </g>\r\n  <g id=\"axes_1\">\r\n   <g id=\"patch_2\">\r\n    <path d=\"M 36.465625 228.14 \r\nL 371.265625 228.14 \r\nL 371.265625 10.7 \r\nL 36.465625 10.7 \r\nz\r\n\" style=\"fill:#ffffff;\"/>\r\n   </g>\r\n   <g id=\"matplotlib.axis_1\">\r\n    <g id=\"xtick_1\">\r\n     <g id=\"line2d_1\">\r\n      <defs>\r\n       <path d=\"M 0 0 \r\nL 0 3.5 \r\n\" id=\"mbcdcb24dee\" style=\"stroke:#000000;stroke-width:0.8;\"/>\r\n      </defs>\r\n      <g>\r\n       <use style=\"stroke:#000000;stroke-width:0.8;\" x=\"51.683807\" xlink:href=\"#mbcdcb24dee\" y=\"228.14\"/>\r\n      </g>\r\n     </g>\r\n     <g id=\"text_1\">\r\n      <!-- 0 -->\r\n      <defs>\r\n       <path d=\"M 31.78125 66.40625 \r\nQ 24.171875 66.40625 20.328125 58.90625 \r\nQ 16.5 51.421875 16.5 36.375 \r\nQ 16.5 21.390625 20.328125 13.890625 \r\nQ 24.171875 6.390625 31.78125 6.390625 \r\nQ 39.453125 6.390625 43.28125 13.890625 \r\nQ 47.125 21.390625 47.125 36.375 \r\nQ 47.125 51.421875 43.28125 58.90625 \r\nQ 39.453125 66.40625 31.78125 66.40625 \r\nz\r\nM 31.78125 74.21875 \r\nQ 44.046875 74.21875 50.515625 64.515625 \r\nQ 56.984375 54.828125 56.984375 36.375 \r\nQ 56.984375 17.96875 50.515625 8.265625 \r\nQ 44.046875 -1.421875 31.78125 -1.421875 \r\nQ 19.53125 -1.421875 13.0625 8.265625 \r\nQ 6.59375 17.96875 6.59375 36.375 \r\nQ 6.59375 54.828125 13.0625 64.515625 \r\nQ 19.53125 74.21875 31.78125 74.21875 \r\nz\r\n\" id=\"DejaVuSans-30\"/>\r\n      </defs>\r\n      <g transform=\"translate(48.502557 242.738437)scale(0.1 -0.1)\">\r\n       <use xlink:href=\"#DejaVuSans-30\"/>\r\n      </g>\r\n     </g>\r\n    </g>\r\n    <g id=\"xtick_2\">\r\n     <g id=\"line2d_2\">\r\n      <g>\r\n       <use style=\"stroke:#000000;stroke-width:0.8;\" x=\"113.17141\" xlink:href=\"#mbcdcb24dee\" y=\"228.14\"/>\r\n      </g>\r\n     </g>\r\n     <g id=\"text_2\">\r\n      <!-- 20 -->\r\n      <defs>\r\n       <path d=\"M 19.1875 8.296875 \r\nL 53.609375 8.296875 \r\nL 53.609375 0 \r\nL 7.328125 0 \r\nL 7.328125 8.296875 \r\nQ 12.9375 14.109375 22.625 23.890625 \r\nQ 32.328125 33.6875 34.8125 36.53125 \r\nQ 39.546875 41.84375 41.421875 45.53125 \r\nQ 43.3125 49.21875 43.3125 52.78125 \r\nQ 43.3125 58.59375 39.234375 62.25 \r\nQ 35.15625 65.921875 28.609375 65.921875 \r\nQ 23.96875 65.921875 18.8125 64.3125 \r\nQ 13.671875 62.703125 7.8125 59.421875 \r\nL 7.8125 69.390625 \r\nQ 13.765625 71.78125 18.9375 73 \r\nQ 24.125 74.21875 28.421875 74.21875 \r\nQ 39.75 74.21875 46.484375 68.546875 \r\nQ 53.21875 62.890625 53.21875 53.421875 \r\nQ 53.21875 48.921875 51.53125 44.890625 \r\nQ 49.859375 40.875 45.40625 35.40625 \r\nQ 44.1875 33.984375 37.640625 27.21875 \r\nQ 31.109375 20.453125 19.1875 8.296875 \r\nz\r\n\" id=\"DejaVuSans-32\"/>\r\n      </defs>\r\n      <g transform=\"translate(106.80891 242.738437)scale(0.1 -0.1)\">\r\n       <use xlink:href=\"#DejaVuSans-32\"/>\r\n       <use x=\"63.623047\" xlink:href=\"#DejaVuSans-30\"/>\r\n      </g>\r\n     </g>\r\n    </g>\r\n    <g id=\"xtick_3\">\r\n     <g id=\"line2d_3\">\r\n      <g>\r\n       <use style=\"stroke:#000000;stroke-width:0.8;\" x=\"174.659013\" xlink:href=\"#mbcdcb24dee\" y=\"228.14\"/>\r\n      </g>\r\n     </g>\r\n     <g id=\"text_3\">\r\n      <!-- 40 -->\r\n      <defs>\r\n       <path d=\"M 37.796875 64.3125 \r\nL 12.890625 25.390625 \r\nL 37.796875 25.390625 \r\nz\r\nM 35.203125 72.90625 \r\nL 47.609375 72.90625 \r\nL 47.609375 25.390625 \r\nL 58.015625 25.390625 \r\nL 58.015625 17.1875 \r\nL 47.609375 17.1875 \r\nL 47.609375 0 \r\nL 37.796875 0 \r\nL 37.796875 17.1875 \r\nL 4.890625 17.1875 \r\nL 4.890625 26.703125 \r\nz\r\n\" id=\"DejaVuSans-34\"/>\r\n      </defs>\r\n      <g transform=\"translate(168.296513 242.738437)scale(0.1 -0.1)\">\r\n       <use xlink:href=\"#DejaVuSans-34\"/>\r\n       <use x=\"63.623047\" xlink:href=\"#DejaVuSans-30\"/>\r\n      </g>\r\n     </g>\r\n    </g>\r\n    <g id=\"xtick_4\">\r\n     <g id=\"line2d_4\">\r\n      <g>\r\n       <use style=\"stroke:#000000;stroke-width:0.8;\" x=\"236.146617\" xlink:href=\"#mbcdcb24dee\" y=\"228.14\"/>\r\n      </g>\r\n     </g>\r\n     <g id=\"text_4\">\r\n      <!-- 60 -->\r\n      <defs>\r\n       <path d=\"M 33.015625 40.375 \r\nQ 26.375 40.375 22.484375 35.828125 \r\nQ 18.609375 31.296875 18.609375 23.390625 \r\nQ 18.609375 15.53125 22.484375 10.953125 \r\nQ 26.375 6.390625 33.015625 6.390625 \r\nQ 39.65625 6.390625 43.53125 10.953125 \r\nQ 47.40625 15.53125 47.40625 23.390625 \r\nQ 47.40625 31.296875 43.53125 35.828125 \r\nQ 39.65625 40.375 33.015625 40.375 \r\nz\r\nM 52.59375 71.296875 \r\nL 52.59375 62.3125 \r\nQ 48.875 64.0625 45.09375 64.984375 \r\nQ 41.3125 65.921875 37.59375 65.921875 \r\nQ 27.828125 65.921875 22.671875 59.328125 \r\nQ 17.53125 52.734375 16.796875 39.40625 \r\nQ 19.671875 43.65625 24.015625 45.921875 \r\nQ 28.375 48.1875 33.59375 48.1875 \r\nQ 44.578125 48.1875 50.953125 41.515625 \r\nQ 57.328125 34.859375 57.328125 23.390625 \r\nQ 57.328125 12.15625 50.6875 5.359375 \r\nQ 44.046875 -1.421875 33.015625 -1.421875 \r\nQ 20.359375 -1.421875 13.671875 8.265625 \r\nQ 6.984375 17.96875 6.984375 36.375 \r\nQ 6.984375 53.65625 15.1875 63.9375 \r\nQ 23.390625 74.21875 37.203125 74.21875 \r\nQ 40.921875 74.21875 44.703125 73.484375 \r\nQ 48.484375 72.75 52.59375 71.296875 \r\nz\r\n\" id=\"DejaVuSans-36\"/>\r\n      </defs>\r\n      <g transform=\"translate(229.784117 242.738437)scale(0.1 -0.1)\">\r\n       <use xlink:href=\"#DejaVuSans-36\"/>\r\n       <use x=\"63.623047\" xlink:href=\"#DejaVuSans-30\"/>\r\n      </g>\r\n     </g>\r\n    </g>\r\n    <g id=\"xtick_5\">\r\n     <g id=\"line2d_5\">\r\n      <g>\r\n       <use style=\"stroke:#000000;stroke-width:0.8;\" x=\"297.63422\" xlink:href=\"#mbcdcb24dee\" y=\"228.14\"/>\r\n      </g>\r\n     </g>\r\n     <g id=\"text_5\">\r\n      <!-- 80 -->\r\n      <defs>\r\n       <path d=\"M 31.78125 34.625 \r\nQ 24.75 34.625 20.71875 30.859375 \r\nQ 16.703125 27.09375 16.703125 20.515625 \r\nQ 16.703125 13.921875 20.71875 10.15625 \r\nQ 24.75 6.390625 31.78125 6.390625 \r\nQ 38.8125 6.390625 42.859375 10.171875 \r\nQ 46.921875 13.96875 46.921875 20.515625 \r\nQ 46.921875 27.09375 42.890625 30.859375 \r\nQ 38.875 34.625 31.78125 34.625 \r\nz\r\nM 21.921875 38.8125 \r\nQ 15.578125 40.375 12.03125 44.71875 \r\nQ 8.5 49.078125 8.5 55.328125 \r\nQ 8.5 64.0625 14.71875 69.140625 \r\nQ 20.953125 74.21875 31.78125 74.21875 \r\nQ 42.671875 74.21875 48.875 69.140625 \r\nQ 55.078125 64.0625 55.078125 55.328125 \r\nQ 55.078125 49.078125 51.53125 44.71875 \r\nQ 48 40.375 41.703125 38.8125 \r\nQ 48.828125 37.15625 52.796875 32.3125 \r\nQ 56.78125 27.484375 56.78125 20.515625 \r\nQ 56.78125 9.90625 50.3125 4.234375 \r\nQ 43.84375 -1.421875 31.78125 -1.421875 \r\nQ 19.734375 -1.421875 13.25 4.234375 \r\nQ 6.78125 9.90625 6.78125 20.515625 \r\nQ 6.78125 27.484375 10.78125 32.3125 \r\nQ 14.796875 37.15625 21.921875 38.8125 \r\nz\r\nM 18.3125 54.390625 \r\nQ 18.3125 48.734375 21.84375 45.5625 \r\nQ 25.390625 42.390625 31.78125 42.390625 \r\nQ 38.140625 42.390625 41.71875 45.5625 \r\nQ 45.3125 48.734375 45.3125 54.390625 \r\nQ 45.3125 60.0625 41.71875 63.234375 \r\nQ 38.140625 66.40625 31.78125 66.40625 \r\nQ 25.390625 66.40625 21.84375 63.234375 \r\nQ 18.3125 60.0625 18.3125 54.390625 \r\nz\r\n\" id=\"DejaVuSans-38\"/>\r\n      </defs>\r\n      <g transform=\"translate(291.27172 242.738437)scale(0.1 -0.1)\">\r\n       <use xlink:href=\"#DejaVuSans-38\"/>\r\n       <use x=\"63.623047\" xlink:href=\"#DejaVuSans-30\"/>\r\n      </g>\r\n     </g>\r\n    </g>\r\n    <g id=\"xtick_6\">\r\n     <g id=\"line2d_6\">\r\n      <g>\r\n       <use style=\"stroke:#000000;stroke-width:0.8;\" x=\"359.121823\" xlink:href=\"#mbcdcb24dee\" y=\"228.14\"/>\r\n      </g>\r\n     </g>\r\n     <g id=\"text_6\">\r\n      <!-- 100 -->\r\n      <defs>\r\n       <path d=\"M 12.40625 8.296875 \r\nL 28.515625 8.296875 \r\nL 28.515625 63.921875 \r\nL 10.984375 60.40625 \r\nL 10.984375 69.390625 \r\nL 28.421875 72.90625 \r\nL 38.28125 72.90625 \r\nL 38.28125 8.296875 \r\nL 54.390625 8.296875 \r\nL 54.390625 0 \r\nL 12.40625 0 \r\nz\r\n\" id=\"DejaVuSans-31\"/>\r\n      </defs>\r\n      <g transform=\"translate(349.578073 242.738437)scale(0.1 -0.1)\">\r\n       <use xlink:href=\"#DejaVuSans-31\"/>\r\n       <use x=\"63.623047\" xlink:href=\"#DejaVuSans-30\"/>\r\n       <use x=\"127.246094\" xlink:href=\"#DejaVuSans-30\"/>\r\n      </g>\r\n     </g>\r\n    </g>\r\n   </g>\r\n   <g id=\"matplotlib.axis_2\">\r\n    <g id=\"ytick_1\">\r\n     <g id=\"line2d_7\">\r\n      <defs>\r\n       <path d=\"M 0 0 \r\nL -3.5 0 \r\n\" id=\"m742e255c66\" style=\"stroke:#000000;stroke-width:0.8;\"/>\r\n      </defs>\r\n      <g>\r\n       <use style=\"stroke:#000000;stroke-width:0.8;\" x=\"36.465625\" xlink:href=\"#m742e255c66\" y=\"217.222589\"/>\r\n      </g>\r\n     </g>\r\n     <g id=\"text_7\">\r\n      <!-- 0.65 -->\r\n      <defs>\r\n       <path d=\"M 10.6875 12.40625 \r\nL 21 12.40625 \r\nL 21 0 \r\nL 10.6875 0 \r\nz\r\n\" id=\"DejaVuSans-2e\"/>\r\n       <path d=\"M 10.796875 72.90625 \r\nL 49.515625 72.90625 \r\nL 49.515625 64.59375 \r\nL 19.828125 64.59375 \r\nL 19.828125 46.734375 \r\nQ 21.96875 47.46875 24.109375 47.828125 \r\nQ 26.265625 48.1875 28.421875 48.1875 \r\nQ 40.625 48.1875 47.75 41.5 \r\nQ 54.890625 34.8125 54.890625 23.390625 \r\nQ 54.890625 11.625 47.5625 5.09375 \r\nQ 40.234375 -1.421875 26.90625 -1.421875 \r\nQ 22.3125 -1.421875 17.546875 -0.640625 \r\nQ 12.796875 0.140625 7.71875 1.703125 \r\nL 7.71875 11.625 \r\nQ 12.109375 9.234375 16.796875 8.0625 \r\nQ 21.484375 6.890625 26.703125 6.890625 \r\nQ 35.15625 6.890625 40.078125 11.328125 \r\nQ 45.015625 15.765625 45.015625 23.390625 \r\nQ 45.015625 31 40.078125 35.4375 \r\nQ 35.15625 39.890625 26.703125 39.890625 \r\nQ 22.75 39.890625 18.8125 39.015625 \r\nQ 14.890625 38.140625 10.796875 36.28125 \r\nz\r\n\" id=\"DejaVuSans-35\"/>\r\n      </defs>\r\n      <g transform=\"translate(7.2 221.021808)scale(0.1 -0.1)\">\r\n       <use xlink:href=\"#DejaVuSans-30\"/>\r\n       <use x=\"63.623047\" xlink:href=\"#DejaVuSans-2e\"/>\r\n       <use x=\"95.410156\" xlink:href=\"#DejaVuSans-36\"/>\r\n       <use x=\"159.033203\" xlink:href=\"#DejaVuSans-35\"/>\r\n      </g>\r\n     </g>\r\n    </g>\r\n    <g id=\"ytick_2\">\r\n     <g id=\"line2d_8\">\r\n      <g>\r\n       <use style=\"stroke:#000000;stroke-width:0.8;\" x=\"36.465625\" xlink:href=\"#m742e255c66\" y=\"188.07999\"/>\r\n      </g>\r\n     </g>\r\n     <g id=\"text_8\">\r\n      <!-- 0.70 -->\r\n      <defs>\r\n       <path d=\"M 8.203125 72.90625 \r\nL 55.078125 72.90625 \r\nL 55.078125 68.703125 \r\nL 28.609375 0 \r\nL 18.3125 0 \r\nL 43.21875 64.59375 \r\nL 8.203125 64.59375 \r\nz\r\n\" id=\"DejaVuSans-37\"/>\r\n      </defs>\r\n      <g transform=\"translate(7.2 191.879208)scale(0.1 -0.1)\">\r\n       <use xlink:href=\"#DejaVuSans-30\"/>\r\n       <use x=\"63.623047\" xlink:href=\"#DejaVuSans-2e\"/>\r\n       <use x=\"95.410156\" xlink:href=\"#DejaVuSans-37\"/>\r\n       <use x=\"159.033203\" xlink:href=\"#DejaVuSans-30\"/>\r\n      </g>\r\n     </g>\r\n    </g>\r\n    <g id=\"ytick_3\">\r\n     <g id=\"line2d_9\">\r\n      <g>\r\n       <use style=\"stroke:#000000;stroke-width:0.8;\" x=\"36.465625\" xlink:href=\"#m742e255c66\" y=\"158.93739\"/>\r\n      </g>\r\n     </g>\r\n     <g id=\"text_9\">\r\n      <!-- 0.75 -->\r\n      <g transform=\"translate(7.2 162.736609)scale(0.1 -0.1)\">\r\n       <use xlink:href=\"#DejaVuSans-30\"/>\r\n       <use x=\"63.623047\" xlink:href=\"#DejaVuSans-2e\"/>\r\n       <use x=\"95.410156\" xlink:href=\"#DejaVuSans-37\"/>\r\n       <use x=\"159.033203\" xlink:href=\"#DejaVuSans-35\"/>\r\n      </g>\r\n     </g>\r\n    </g>\r\n    <g id=\"ytick_4\">\r\n     <g id=\"line2d_10\">\r\n      <g>\r\n       <use style=\"stroke:#000000;stroke-width:0.8;\" x=\"36.465625\" xlink:href=\"#m742e255c66\" y=\"129.794791\"/>\r\n      </g>\r\n     </g>\r\n     <g id=\"text_10\">\r\n      <!-- 0.80 -->\r\n      <g transform=\"translate(7.2 133.59401)scale(0.1 -0.1)\">\r\n       <use xlink:href=\"#DejaVuSans-30\"/>\r\n       <use x=\"63.623047\" xlink:href=\"#DejaVuSans-2e\"/>\r\n       <use x=\"95.410156\" xlink:href=\"#DejaVuSans-38\"/>\r\n       <use x=\"159.033203\" xlink:href=\"#DejaVuSans-30\"/>\r\n      </g>\r\n     </g>\r\n    </g>\r\n    <g id=\"ytick_5\">\r\n     <g id=\"line2d_11\">\r\n      <g>\r\n       <use style=\"stroke:#000000;stroke-width:0.8;\" x=\"36.465625\" xlink:href=\"#m742e255c66\" y=\"100.652192\"/>\r\n      </g>\r\n     </g>\r\n     <g id=\"text_11\">\r\n      <!-- 0.85 -->\r\n      <g transform=\"translate(7.2 104.451411)scale(0.1 -0.1)\">\r\n       <use xlink:href=\"#DejaVuSans-30\"/>\r\n       <use x=\"63.623047\" xlink:href=\"#DejaVuSans-2e\"/>\r\n       <use x=\"95.410156\" xlink:href=\"#DejaVuSans-38\"/>\r\n       <use x=\"159.033203\" xlink:href=\"#DejaVuSans-35\"/>\r\n      </g>\r\n     </g>\r\n    </g>\r\n    <g id=\"ytick_6\">\r\n     <g id=\"line2d_12\">\r\n      <g>\r\n       <use style=\"stroke:#000000;stroke-width:0.8;\" x=\"36.465625\" xlink:href=\"#m742e255c66\" y=\"71.509593\"/>\r\n      </g>\r\n     </g>\r\n     <g id=\"text_12\">\r\n      <!-- 0.90 -->\r\n      <defs>\r\n       <path d=\"M 10.984375 1.515625 \r\nL 10.984375 10.5 \r\nQ 14.703125 8.734375 18.5 7.8125 \r\nQ 22.3125 6.890625 25.984375 6.890625 \r\nQ 35.75 6.890625 40.890625 13.453125 \r\nQ 46.046875 20.015625 46.78125 33.40625 \r\nQ 43.953125 29.203125 39.59375 26.953125 \r\nQ 35.25 24.703125 29.984375 24.703125 \r\nQ 19.046875 24.703125 12.671875 31.3125 \r\nQ 6.296875 37.9375 6.296875 49.421875 \r\nQ 6.296875 60.640625 12.9375 67.421875 \r\nQ 19.578125 74.21875 30.609375 74.21875 \r\nQ 43.265625 74.21875 49.921875 64.515625 \r\nQ 56.59375 54.828125 56.59375 36.375 \r\nQ 56.59375 19.140625 48.40625 8.859375 \r\nQ 40.234375 -1.421875 26.421875 -1.421875 \r\nQ 22.703125 -1.421875 18.890625 -0.6875 \r\nQ 15.09375 0.046875 10.984375 1.515625 \r\nz\r\nM 30.609375 32.421875 \r\nQ 37.25 32.421875 41.125 36.953125 \r\nQ 45.015625 41.5 45.015625 49.421875 \r\nQ 45.015625 57.28125 41.125 61.84375 \r\nQ 37.25 66.40625 30.609375 66.40625 \r\nQ 23.96875 66.40625 20.09375 61.84375 \r\nQ 16.21875 57.28125 16.21875 49.421875 \r\nQ 16.21875 41.5 20.09375 36.953125 \r\nQ 23.96875 32.421875 30.609375 32.421875 \r\nz\r\n\" id=\"DejaVuSans-39\"/>\r\n      </defs>\r\n      <g transform=\"translate(7.2 75.308811)scale(0.1 -0.1)\">\r\n       <use xlink:href=\"#DejaVuSans-30\"/>\r\n       <use x=\"63.623047\" xlink:href=\"#DejaVuSans-2e\"/>\r\n       <use x=\"95.410156\" xlink:href=\"#DejaVuSans-39\"/>\r\n       <use x=\"159.033203\" xlink:href=\"#DejaVuSans-30\"/>\r\n      </g>\r\n     </g>\r\n    </g>\r\n    <g id=\"ytick_7\">\r\n     <g id=\"line2d_13\">\r\n      <g>\r\n       <use style=\"stroke:#000000;stroke-width:0.8;\" x=\"36.465625\" xlink:href=\"#m742e255c66\" y=\"42.366993\"/>\r\n      </g>\r\n     </g>\r\n     <g id=\"text_13\">\r\n      <!-- 0.95 -->\r\n      <g transform=\"translate(7.2 46.166212)scale(0.1 -0.1)\">\r\n       <use xlink:href=\"#DejaVuSans-30\"/>\r\n       <use x=\"63.623047\" xlink:href=\"#DejaVuSans-2e\"/>\r\n       <use x=\"95.410156\" xlink:href=\"#DejaVuSans-39\"/>\r\n       <use x=\"159.033203\" xlink:href=\"#DejaVuSans-35\"/>\r\n      </g>\r\n     </g>\r\n    </g>\r\n    <g id=\"ytick_8\">\r\n     <g id=\"line2d_14\">\r\n      <g>\r\n       <use style=\"stroke:#000000;stroke-width:0.8;\" x=\"36.465625\" xlink:href=\"#m742e255c66\" y=\"13.224394\"/>\r\n      </g>\r\n     </g>\r\n     <g id=\"text_14\">\r\n      <!-- 1.00 -->\r\n      <g transform=\"translate(7.2 17.023613)scale(0.1 -0.1)\">\r\n       <use xlink:href=\"#DejaVuSans-31\"/>\r\n       <use x=\"63.623047\" xlink:href=\"#DejaVuSans-2e\"/>\r\n       <use x=\"95.410156\" xlink:href=\"#DejaVuSans-30\"/>\r\n       <use x=\"159.033203\" xlink:href=\"#DejaVuSans-30\"/>\r\n      </g>\r\n     </g>\r\n    </g>\r\n   </g>\r\n   <g id=\"line2d_15\">\r\n    <path clip-path=\"url(#p04c27ddb0b)\" d=\"M 51.683807 218.256364 \r\nL 54.758187 215.11294 \r\nL 57.832567 191.043644 \r\nL 60.906947 171.448102 \r\nL 63.981327 161.635779 \r\nL 67.055708 154.244938 \r\nL 70.130088 148.634451 \r\nL 73.204468 135.062119 \r\nL 76.278848 127.185741 \r\nL 79.353228 121.895871 \r\nL 82.427608 122.879598 \r\nL 85.501989 113.555397 \r\nL 88.576369 107.987069 \r\nL 91.650749 111.432985 \r\nL 94.725129 103.802743 \r\nL 97.799509 92.458902 \r\nL 100.873889 93.711134 \r\nL 103.94827 90.019081 \r\nL 107.02265 87.062125 \r\nL 110.09703 79.435198 \r\nL 113.17141 74.758599 \r\nL 116.24579 79.681335 \r\nL 119.32017 74.551413 \r\nL 122.394551 68.605178 \r\nL 125.468931 72.834256 \r\nL 128.543311 72.789504 \r\nL 131.617691 61.630745 \r\nL 134.692071 65.229706 \r\nL 137.766451 60.236526 \r\nL 140.840832 62.040701 \r\nL 143.915212 71.804957 \r\nL 146.989592 48.421959 \r\nL 150.063972 47.683549 \r\nL 153.138352 56.298337 \r\nL 156.212732 54.926767 \r\nL 159.287113 43.253086 \r\nL 162.361493 39.472358 \r\nL 165.435873 55.559927 \r\nL 168.510253 39.156368 \r\nL 171.584633 45.60506 \r\nL 174.659013 41.283991 \r\nL 177.733394 40.208282 \r\nL 180.807774 37.099665 \r\nL 183.882154 56.0522 \r\nL 186.956534 42.514675 \r\nL 190.030914 35.868981 \r\nL 193.105294 40.299444 \r\nL 196.179675 39.717666 \r\nL 199.254055 35.056813 \r\nL 202.328435 37.180599 \r\nL 205.402815 34.811505 \r\nL 208.477195 31.438519 \r\nL 211.551575 33.407613 \r\nL 214.625956 36.853529 \r\nL 217.700336 42.022402 \r\nL 220.774716 35.792737 \r\nL 223.849096 27.942879 \r\nL 226.923476 31.747233 \r\nL 229.997856 36.038045 \r\nL 233.072237 26.515782 \r\nL 236.146617 31.377192 \r\nL 239.220997 30.700108 \r\nL 242.295377 36.361255 \r\nL 245.369757 29.469424 \r\nL 248.444137 27.992603 \r\nL 251.518518 31.131884 \r\nL 254.592898 36.192714 \r\nL 257.667278 27.697571 \r\nL 260.741658 26.761919 \r\nL 263.816038 35.547429 \r\nL 266.890418 31.25329 \r\nL 269.964799 29.169419 \r\nL 273.039179 26.023509 \r\nL 276.113559 27.206954 \r\nL 279.187939 30.759348 \r\nL 282.262319 29.905343 \r\nL 285.336699 40.45359 \r\nL 288.41108 25.819924 \r\nL 291.48546 29.660035 \r\nL 294.55984 25.038961 \r\nL 297.63422 28.731014 \r\nL 300.7086 26.515782 \r\nL 303.78298 25.735106 \r\nL 306.857361 28.97715 \r\nL 309.931741 24.263257 \r\nL 313.006121 23.597184 \r\nL 316.080501 22.300793 \r\nL 319.154881 28.23874 \r\nL 322.229261 27.992603 \r\nL 325.303642 27.746466 \r\nL 328.378022 20.583636 \r\nL 331.452402 25.285098 \r\nL 334.526782 26.515782 \r\nL 337.601162 32.423066 \r\nL 340.675542 32.603732 \r\nL 343.749923 23.069867 \r\nL 346.824303 23.56214 \r\nL 349.898683 28.731014 \r\nL 352.973063 24.753874 \r\nL 356.047443 25.531235 \r\n\" style=\"fill:none;stroke:#1f77b4;stroke-linecap:square;stroke-width:1.5;\"/>\r\n   </g>\r\n   <g id=\"patch_3\">\r\n    <path d=\"M 36.465625 228.14 \r\nL 36.465625 10.7 \r\n\" style=\"fill:none;stroke:#000000;stroke-linecap:square;stroke-linejoin:miter;stroke-width:0.8;\"/>\r\n   </g>\r\n   <g id=\"patch_4\">\r\n    <path d=\"M 371.265625 228.14 \r\nL 371.265625 10.7 \r\n\" style=\"fill:none;stroke:#000000;stroke-linecap:square;stroke-linejoin:miter;stroke-width:0.8;\"/>\r\n   </g>\r\n   <g id=\"patch_5\">\r\n    <path d=\"M 36.465625 228.14 \r\nL 371.265625 228.14 \r\n\" style=\"fill:none;stroke:#000000;stroke-linecap:square;stroke-linejoin:miter;stroke-width:0.8;\"/>\r\n   </g>\r\n   <g id=\"patch_6\">\r\n    <path d=\"M 36.465625 10.7 \r\nL 371.265625 10.7 \r\n\" style=\"fill:none;stroke:#000000;stroke-linecap:square;stroke-linejoin:miter;stroke-width:0.8;\"/>\r\n   </g>\r\n  </g>\r\n </g>\r\n <defs>\r\n  <clipPath id=\"p04c27ddb0b\">\r\n   <rect height=\"217.44\" width=\"334.8\" x=\"36.465625\" y=\"10.7\"/>\r\n  </clipPath>\r\n </defs>\r\n</svg>\r\n",
      "image/png": "[encoded data removed]"
     },
     "metadata": {
      "needs_background": "light"
     }
    }
   ],
   "source": [
    "plt.plot(results.history['acc'])"
   ]
  },
  {
   "cell_type": "code",
   "execution_count": 25,
   "metadata": {},
   "outputs": [
    {
     "output_type": "execute_result",
     "data": {
      "text/plain": [
       "{'neem': 0, 'tulsi': 1}"
      ]
     },
     "metadata": {},
     "execution_count": 25
    }
   ],
   "source": [
    "train_image_gen.class_indices"
   ]
  },
  {
   "cell_type": "code",
   "execution_count": 33,
   "metadata": {},
   "outputs": [],
   "source": [
    " model.save('NeemTulsi.h5')"
   ]
  }
 ]
}